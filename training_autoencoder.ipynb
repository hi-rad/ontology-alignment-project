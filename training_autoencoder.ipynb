{
 "cells": [
  {
   "cell_type": "markdown",
   "metadata": {
    "collapsed": true,
    "pycharm": {
     "name": "#%% md\n"
    }
   },
   "source": [
    "# Training AutoEncoder\n",
    "In this file, we will train our GNN AutoEncoder. We will try two networks, one called Shallow GNN AutoEncoder which has one GNN layer in the encoder and one GNN layer in the decoder, and one called Deep GNN AutoEncoder which has two GNN layers in the encoder and two GNN layers in the decoder. For each of our networks we try 2 configurations. Finally, by comparing the test loss, we will choose the network and configuration with the lowest test loss and use it to create representations for each of our ontology concepts."
   ]
  },
  {
   "cell_type": "markdown",
   "metadata": {
    "pycharm": {
     "name": "#%% md\n"
    }
   },
   "source": [
    "### Importing the needed packages"
   ]
  },
  {
   "cell_type": "code",
   "execution_count": 1,
   "metadata": {
    "pycharm": {
     "name": "#%%\n"
    }
   },
   "outputs": [],
   "source": [
    "import os\n",
    "import torch\n",
    "from torch import nn\n",
    "import torch.nn.functional as F\n",
    "from torch_geometric.loader import DataLoader\n",
    "from models import ShallowGNNAutoEncoder, DeepGNNAutoEncoder\n",
    "from utils import ConceptGraphDataset\n",
    "import math"
   ]
  },
  {
   "cell_type": "code",
   "execution_count": 2,
   "metadata": {},
   "outputs": [
    {
     "name": "stdout",
     "output_type": "stream",
     "text": [
      "\n",
      "Dataset: concept_graph():\n",
      "====================\n",
      "Number of graphs: 6035\n",
      "Number of features: 200\n"
     ]
    }
   ],
   "source": [
    "cwd = os.getcwd()\n",
    "path = os.path\n",
    "pjoin = path.join\n",
    "dataset = ConceptGraphDataset(root=cwd)\n",
    "\n",
    "print()\n",
    "print(f'Dataset: {dataset}:')\n",
    "print('====================')\n",
    "print(f'Number of graphs: {len(dataset)}')\n",
    "print(f'Number of features: {dataset.num_features}')"
   ]
  },
  {
   "cell_type": "code",
   "execution_count": 3,
   "metadata": {},
   "outputs": [
    {
     "name": "stdout",
     "output_type": "stream",
     "text": [
      "Number of training graphs: 2958\n",
      "Number of validation graphs: 1267\n",
      "Number of test graphs: 1810\n"
     ]
    }
   ],
   "source": [
    "torch.manual_seed(12345)\n",
    "dataset = dataset.shuffle()\n",
    "\n",
    "train_size = math.ceil(len(dataset)*0.7)\n",
    "last_train_index = math.ceil(train_size*0.7)\n",
    "train_val_dataset = dataset[:train_size]\n",
    "train_dataset = train_val_dataset[:last_train_index]\n",
    "validation_dataset = train_val_dataset[last_train_index:]\n",
    "test_dataset = dataset[train_size:]\n",
    "\n",
    "print(f'Number of training graphs: {len(train_dataset)}')\n",
    "print(f'Number of validation graphs: {len(validation_dataset)}')\n",
    "print(f'Number of test graphs: {len(test_dataset)}')"
   ]
  },
  {
   "cell_type": "code",
   "execution_count": 4,
   "metadata": {},
   "outputs": [],
   "source": [
    "def train(model, train_data, validation_data, train_device, num_epochs=400, batch_size=64, learning_rate=1e-3):\n",
    "    criterion = nn.MSELoss() # mean square error loss\n",
    "    optimizer = torch.optim.Adam(model.parameters(),\n",
    "                                 lr=learning_rate, \n",
    "                                 weight_decay=1e-5) # <--\n",
    "    train_loader = DataLoader(train_data, batch_size=batch_size, shuffle=True)\n",
    "    train_outputs = []\n",
    "    validation_outputs = []\n",
    "    for epoch in range(num_epochs):\n",
    "        model.train()\n",
    "        running_loss = 0\n",
    "        for data in train_loader:\n",
    "            data = data.to(device)\n",
    "            out = model(data.x, data.edge_index)\n",
    "            loss = criterion(out, data.x)\n",
    "            loss.backward()  # Derive gradients.\n",
    "            optimizer.step()  # Update parameters based on gradients.\n",
    "            optimizer.zero_grad()  # Clear gradients.\n",
    "            running_loss += loss.item()\n",
    "        \n",
    "        epoch_train_loss = running_loss/len(train_loader)\n",
    "        epoch_validation_loss = test(model, validation_data, train_device, batch_size=batch_size)\n",
    "        train_outputs.append(epoch_train_loss)\n",
    "        validation_outputs.append(epoch_validation_loss)\n",
    "        if ((epoch+1) % 50) == 0:\n",
    "            epoch_info = ' Epoch:{}, Training Loss:{:.4f}, Validation Loss:{:.4f}'.format(epoch+1, epoch_train_loss, epoch_validation_loss)\n",
    "            print(epoch_info.center(len(epoch_info) + 20, '='))\n",
    "    return train_outputs, validation_outputs"
   ]
  },
  {
   "cell_type": "code",
   "execution_count": 5,
   "metadata": {},
   "outputs": [],
   "source": [
    "def test(model, test_data, test_device, batch_size=64):\n",
    "    model.eval()\n",
    "\n",
    "    correct = 0\n",
    "    true_classes = []\n",
    "    predicted_classes = []\n",
    "    test_loader = DataLoader(test_data, batch_size=batch_size, shuffle=False)\n",
    "    running_loss = 0\n",
    "    for data in test_loader:  # Iterate in batches over the training/test dataset.\n",
    "        data = data.to(test_device)\n",
    "        out = model(data.x, data.edge_index)\n",
    "        loss = F.mse_loss(data.x, out)\n",
    "        running_loss += loss.item()\n",
    "    return running_loss / len(test_loader)"
   ]
  },
  {
   "cell_type": "code",
   "execution_count": 6,
   "metadata": {},
   "outputs": [
    {
     "name": "stdout",
     "output_type": "stream",
     "text": [
      "Training will be done on cuda:0\n"
     ]
    }
   ],
   "source": [
    "device = torch.device(\"cuda:0\" if torch.cuda.is_available() else \"cpu\")\n",
    "batch = 64\n",
    "epochs = 500\n",
    "num_node_features = dataset.num_node_features\n",
    "\n",
    "print(f'Training will be done on {device}')"
   ]
  },
  {
   "cell_type": "markdown",
   "metadata": {},
   "source": [
    "### Training the first shallow model"
   ]
  },
  {
   "cell_type": "code",
   "execution_count": 7,
   "metadata": {},
   "outputs": [
    {
     "name": "stdout",
     "output_type": "stream",
     "text": [
      "ShallowGNNAutoEncoder\n"
     ]
    }
   ],
   "source": [
    "first_shallow_ae = ShallowGNNAutoEncoder(in_channels=num_node_features, bottleneck_channels=128)\n",
    "first_shallow_ae = first_shallow_ae.to(device)\n",
    "print(first_shallow_ae)"
   ]
  },
  {
   "cell_type": "code",
   "execution_count": 8,
   "metadata": {},
   "outputs": [
    {
     "name": "stdout",
     "output_type": "stream",
     "text": [
      "========== Epoch:50, Training Loss:0.0009, Validation Loss:0.0009==========\n",
      "========== Epoch:100, Training Loss:0.0010, Validation Loss:0.0009==========\n",
      "========== Epoch:150, Training Loss:0.0009, Validation Loss:0.0009==========\n",
      "========== Epoch:200, Training Loss:0.0009, Validation Loss:0.0009==========\n",
      "========== Epoch:250, Training Loss:0.0010, Validation Loss:0.0009==========\n",
      "========== Epoch:300, Training Loss:0.0009, Validation Loss:0.0009==========\n",
      "========== Epoch:350, Training Loss:0.0009, Validation Loss:0.0009==========\n",
      "========== Epoch:400, Training Loss:0.0009, Validation Loss:0.0009==========\n",
      "========== Epoch:450, Training Loss:0.0009, Validation Loss:0.0009==========\n",
      "========== Epoch:500, Training Loss:0.0009, Validation Loss:0.0009==========\n"
     ]
    }
   ],
   "source": [
    "first_sh_train_outputs, first_sh_validation_outputs = train(first_shallow_ae, train_dataset, validation_dataset, device, num_epochs=epochs, batch_size=batch)\n",
    "first_sh_final_validation_outputs = test(first_shallow_ae, validation_dataset, device, batch_size=batch)"
   ]
  },
  {
   "cell_type": "markdown",
   "metadata": {},
   "source": [
    "### Training the second shallow model"
   ]
  },
  {
   "cell_type": "code",
   "execution_count": 9,
   "metadata": {},
   "outputs": [
    {
     "name": "stdout",
     "output_type": "stream",
     "text": [
      "ShallowGNNAutoEncoder\n"
     ]
    }
   ],
   "source": [
    "second_shallow_ae = ShallowGNNAutoEncoder(in_channels=num_node_features, bottleneck_channels=64)\n",
    "second_shallow_ae = second_shallow_ae.to(device)\n",
    "print(second_shallow_ae)"
   ]
  },
  {
   "cell_type": "code",
   "execution_count": 10,
   "metadata": {},
   "outputs": [
    {
     "name": "stdout",
     "output_type": "stream",
     "text": [
      "========== Epoch:50, Training Loss:0.0009, Validation Loss:0.0009==========\n",
      "========== Epoch:100, Training Loss:0.0009, Validation Loss:0.0009==========\n",
      "========== Epoch:150, Training Loss:0.0009, Validation Loss:0.0009==========\n",
      "========== Epoch:200, Training Loss:0.0010, Validation Loss:0.0009==========\n",
      "========== Epoch:250, Training Loss:0.0010, Validation Loss:0.0009==========\n",
      "========== Epoch:300, Training Loss:0.0009, Validation Loss:0.0009==========\n",
      "========== Epoch:350, Training Loss:0.0009, Validation Loss:0.0009==========\n",
      "========== Epoch:400, Training Loss:0.0009, Validation Loss:0.0009==========\n",
      "========== Epoch:450, Training Loss:0.0009, Validation Loss:0.0009==========\n",
      "========== Epoch:500, Training Loss:0.0009, Validation Loss:0.0009==========\n"
     ]
    }
   ],
   "source": [
    "second_sh_train_outputs, second_sh_validation_outputs = train(second_shallow_ae, train_dataset, validation_dataset, device, num_epochs=epochs, batch_size=batch)\n",
    "second_sh_final_validation_outputs = test(second_shallow_ae, validation_dataset, device, batch_size=batch)"
   ]
  },
  {
   "cell_type": "markdown",
   "metadata": {},
   "source": [
    "### Training the first deep model"
   ]
  },
  {
   "cell_type": "code",
   "execution_count": 11,
   "metadata": {},
   "outputs": [
    {
     "name": "stdout",
     "output_type": "stream",
     "text": [
      "DeepGNNAutoEncoder\n"
     ]
    }
   ],
   "source": [
    "first_deep_ae = DeepGNNAutoEncoder(in_channels=num_node_features, middle_channels=128, bottleneck_channels=64)\n",
    "first_deep_ae = first_deep_ae.to(device)\n",
    "print(first_deep_ae)"
   ]
  },
  {
   "cell_type": "code",
   "execution_count": 12,
   "metadata": {},
   "outputs": [
    {
     "name": "stdout",
     "output_type": "stream",
     "text": [
      "========== Epoch:50, Training Loss:0.0013, Validation Loss:0.0013==========\n",
      "========== Epoch:100, Training Loss:0.0013, Validation Loss:0.0013==========\n",
      "========== Epoch:150, Training Loss:0.0013, Validation Loss:0.0013==========\n",
      "========== Epoch:200, Training Loss:0.0013, Validation Loss:0.0013==========\n",
      "========== Epoch:250, Training Loss:0.0013, Validation Loss:0.0013==========\n",
      "========== Epoch:300, Training Loss:0.0013, Validation Loss:0.0013==========\n",
      "========== Epoch:350, Training Loss:0.0013, Validation Loss:0.0013==========\n",
      "========== Epoch:400, Training Loss:0.0013, Validation Loss:0.0013==========\n",
      "========== Epoch:450, Training Loss:0.0013, Validation Loss:0.0013==========\n",
      "========== Epoch:500, Training Loss:0.0013, Validation Loss:0.0013==========\n"
     ]
    }
   ],
   "source": [
    "first_dp_train_outputs, first_dp_validation_outputs = train(first_deep_ae, train_dataset, validation_dataset, device, num_epochs=epochs, batch_size=batch)\n",
    "first_dp_final_validation_outputs = test(first_deep_ae, validation_dataset, device, batch_size=batch)"
   ]
  },
  {
   "cell_type": "markdown",
   "metadata": {},
   "source": [
    "### Training the second deep model"
   ]
  },
  {
   "cell_type": "code",
   "execution_count": 13,
   "metadata": {},
   "outputs": [
    {
     "name": "stdout",
     "output_type": "stream",
     "text": [
      "DeepGNNAutoEncoder\n"
     ]
    }
   ],
   "source": [
    "second_deep_ae = DeepGNNAutoEncoder(in_channels=num_node_features, middle_channels=64, bottleneck_channels=32)\n",
    "second_deep_ae = second_deep_ae.to(device)\n",
    "print(second_deep_ae)"
   ]
  },
  {
   "cell_type": "code",
   "execution_count": 14,
   "metadata": {},
   "outputs": [
    {
     "name": "stdout",
     "output_type": "stream",
     "text": [
      "========== Epoch:50, Training Loss:0.0014, Validation Loss:0.0013==========\n",
      "========== Epoch:100, Training Loss:0.0013, Validation Loss:0.0013==========\n",
      "========== Epoch:150, Training Loss:0.0013, Validation Loss:0.0013==========\n",
      "========== Epoch:200, Training Loss:0.0013, Validation Loss:0.0013==========\n",
      "========== Epoch:250, Training Loss:0.0013, Validation Loss:0.0013==========\n",
      "========== Epoch:300, Training Loss:0.0013, Validation Loss:0.0013==========\n",
      "========== Epoch:350, Training Loss:0.0013, Validation Loss:0.0013==========\n",
      "========== Epoch:400, Training Loss:0.0013, Validation Loss:0.0013==========\n",
      "========== Epoch:450, Training Loss:0.0013, Validation Loss:0.0013==========\n",
      "========== Epoch:500, Training Loss:0.0013, Validation Loss:0.0013==========\n"
     ]
    }
   ],
   "source": [
    "second_dp_train_outputs, second_dp_validation_outputs = train(second_deep_ae, train_dataset, validation_dataset, device, num_epochs=epochs, batch_size=batch)\n",
    "second_dp_final_validation_outputs = test(second_deep_ae, validation_dataset, device, batch_size=batch)"
   ]
  },
  {
   "cell_type": "markdown",
   "metadata": {},
   "source": [
    "### Comparing the results"
   ]
  },
  {
   "cell_type": "code",
   "execution_count": 16,
   "metadata": {},
   "outputs": [
    {
     "data": {
      "image/png": "[encoded data removed]",
      "text/plain": [
       "<Figure size 432x288 with 1 Axes>"
      ]
     },
     "metadata": {
      "needs_background": "light"
     },
     "output_type": "display_data"
    }
   ],
   "source": [
    "import matplotlib.pyplot as plt\n",
    "  \n",
    "epochs_list = range(1, epochs+1)\n",
    "plt.plot(epochs_list, first_sh_train_outputs, label = \"Shallow Model 1\")\n",
    "plt.plot(epochs_list, second_sh_train_outputs, label = \"Shallow Model 2\")\n",
    "plt.plot(epochs_list, first_dp_train_outputs, label = \"Deep Model 1\")\n",
    "plt.plot(epochs_list, second_dp_train_outputs, label = \"Deep Model 2\")\n",
    "plt.title(\"Train Loss Comparison\")\n",
    "plt.legend()\n",
    "plt.savefig(pjoin(cwd, 'data', 'ae_train_loss_comparison'))\n",
    "plt.show()"
   ]
  },
  {
   "cell_type": "code",
   "execution_count": 17,
   "metadata": {},
   "outputs": [
    {
     "data": {
      "image/png": "[encoded data removed]",
      "text/plain": [
       "<Figure size 432x288 with 1 Axes>"
      ]
     },
     "metadata": {
      "needs_background": "light"
     },
     "output_type": "display_data"
    }
   ],
   "source": [
    "plt.plot(epochs_list, first_sh_validation_outputs, label = \"Shallow Model 1\")\n",
    "plt.plot(epochs_list, second_sh_validation_outputs, label = \"Shallow Model 2\")\n",
    "plt.plot(epochs_list, first_dp_validation_outputs, label = \"Deep Model 1\")\n",
    "plt.plot(epochs_list, second_dp_validation_outputs, label = \"Deep Model 2\")\n",
    "plt.title(\"Validation Loss Comparison\")\n",
    "plt.legend()\n",
    "plt.savefig(pjoin(cwd, 'data', 'ae_validation_loss_comparison'))\n",
    "plt.show()"
   ]
  },
  {
   "cell_type": "code",
   "execution_count": 27,
   "metadata": {},
   "outputs": [
    {
     "data": {
      "image/png": "[encoded data removed]",
      "text/plain": [
       "<Figure size 432x288 with 1 Axes>"
      ]
     },
     "metadata": {
      "needs_background": "light"
     },
     "output_type": "display_data"
    }
   ],
   "source": [
    "import numpy as np\n",
    "\n",
    "x_bar = ['Shallow Model 1','Shallow Model 2','Deep Model 1','Deep Model 2']\n",
    "y_bar = [first_sh_final_validation_outputs, second_sh_final_validation_outputs, first_dp_final_validation_outputs, second_dp_final_validation_outputs]\n",
    "  \n",
    "X_axis = np.arange(len(x_bar))\n",
    "  \n",
    "plt.bar(x_bar, y_bar, 0.4)\n",
    "plt.ylim(bottom=(min(y_bar)-0.0001))\n",
    "plt.xticks(X_axis, x_bar)\n",
    "plt.xlabel(\"Models\")\n",
    "plt.ylabel(\"Validation Loss\")\n",
    "plt.title(\"Final Validation Loss\")\n",
    "plt.savefig(pjoin(cwd, 'data', 'ae_final_validation_loss_comparison'))\n",
    "plt.show()"
   ]
  },
  {
   "cell_type": "markdown",
   "metadata": {},
   "source": [
    "Based on the results above, the GNN autoencoders with only one GNN encoder layer and one GNN decoder layer have the lowest loss. These two are the candidate models"
   ]
  },
  {
   "cell_type": "code",
   "execution_count": 28,
   "metadata": {},
   "outputs": [
    {
     "name": "stdout",
     "output_type": "stream",
     "text": [
      "Shallow Model 1 Test Loss: 0.0009697778551871406\n",
      "Shallow Model 2 Test Loss: 0.0009691768992242628\n"
     ]
    }
   ],
   "source": [
    "first_sh_test_outputs = test(first_shallow_ae, test_dataset, device, batch_size=batch)\n",
    "second_sh_test_outputs = test(second_shallow_ae, test_dataset, device, batch_size=batch)\n",
    "print(f'Shallow Model 1 Test Loss: {first_sh_test_outputs}')\n",
    "print(f'Shallow Model 2 Test Loss: {second_sh_test_outputs}')"
   ]
  },
  {
   "cell_type": "markdown",
   "metadata": {},
   "source": [
    "Based on the results above, Shallow Model 2 is slightly better, so it will be chosen and used to create the representations for each concept"
   ]
  },
  {
   "cell_type": "code",
   "execution_count": 29,
   "metadata": {},
   "outputs": [],
   "source": [
    "torch.save(second_shallow_ae.state_dict(), pjoin(cwd, 'data', 'shallow_ae_64.pt'))"
   ]
  }
 ],
 "metadata": {
  "kernelspec": {
   "display_name": "Python 3 (ipykernel)",
   "language": "python",
   "name": "python3"
  },
  "language_info": {
   "codemirror_mode": {
    "name": "ipython",
    "version": 3
   },
   "file_extension": ".py",
   "mimetype": "text/x-python",
   "name": "python",
   "nbconvert_exporter": "python",
   "pygments_lexer": "ipython3",
   "version": "3.9.7"
  }
 },
 "nbformat": 4,
 "nbformat_minor": 1
}