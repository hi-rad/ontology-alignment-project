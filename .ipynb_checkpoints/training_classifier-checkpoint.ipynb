{
 "cells": [
  {
   "cell_type": "markdown",
   "metadata": {
    "collapsed": true,
    "pycharm": {
     "name": "#%% md\n"
    }
   },
   "source": [
    "# Training the Classifiers\n",
    "In this file, we will train our classifiers. We will train two classifiers."
   ]
  },
  {
   "cell_type": "markdown",
   "metadata": {
    "pycharm": {
     "name": "#%% md\n"
    }
   },
   "source": [
    "### Importing the needed packages"
   ]
  },
  {
   "cell_type": "code",
   "execution_count": 1,
   "metadata": {
    "pycharm": {
     "name": "#%%\n"
    }
   },
   "outputs": [],
   "source": [
    "import os\n",
    "import torch\n",
    "from torch import nn\n",
    "from torch.utils.data import Dataset, DataLoader\n",
    "from models import RepMNNClassifier, EmbMNNClassifier\n",
    "from utils import ConceptGraphDataset\n",
    "import math\n",
    "from random import randint, shuffle\n",
    "import pandas as pd\n",
    "import numpy as np\n",
    "import joblib\n",
    "import json\n",
    "from sklearn.model_selection import train_test_split\n",
    "from sklearn.naive_bayes import GaussianNB\n",
    "import matplotlib.pyplot as plt\n",
    "from sklearn.metrics import classification_report"
   ]
  },
  {
   "cell_type": "code",
   "execution_count": 2,
   "metadata": {},
   "outputs": [],
   "source": [
    "cwd = os.getcwd()\n",
    "path = os.path\n",
    "pjoin = path.join"
   ]
  },
  {
   "cell_type": "code",
   "execution_count": 3,
   "metadata": {},
   "outputs": [],
   "source": [
    "dataset = ConceptGraphDataset(root=cwd)\n",
    "\n",
    "mouse = []\n",
    "human = []\n",
    "for i in range(0, len(dataset)):\n",
    "    data = dataset[i]\n",
    "    ontology = data.ontology\n",
    "    if ontology == 'human':\n",
    "        human.append(data)\n",
    "    elif ontology == 'mouse':\n",
    "        mouse.append(data)\n",
    "    else:\n",
    "        raise Exception('Ontology Not Supported!')"
   ]
  },
  {
   "cell_type": "code",
   "execution_count": 4,
   "metadata": {},
   "outputs": [],
   "source": [
    "ref = pd.read_csv(pjoin(cwd, 'data', 'ref.csv'), names=['mouse', 'human'], header=None)\n",
    "label_data = {}\n",
    "for index, row in ref.iterrows():\n",
    "    label_data[f'{row[\"mouse\"]}_{row[\"human\"]}'] = 1\n",
    "total_labels = 2 * len(label_data)\n",
    "while(len(label_data) < total_labels):\n",
    "    random_mouse_int = randint(0, (len(mouse)-1))\n",
    "    random_human_int = randint(0, (len(human)-1))\n",
    "    m_concept_id = mouse[random_mouse_int].mappings[0]\n",
    "    h_concept_id = human[random_human_int].mappings[0]\n",
    "    if f'{m_concept_id}_{random_human_int}' not in label_data:\n",
    "        label_data[f'{m_concept_id}_{h_concept_id}'] = 0"
   ]
  },
  {
   "cell_type": "code",
   "execution_count": 5,
   "metadata": {},
   "outputs": [],
   "source": [
    "dataset = [{'key': key, 'label': label_data[key]} for key in label_data]\n",
    "shuffle(dataset)"
   ]
  },
  {
   "cell_type": "code",
   "execution_count": 6,
   "metadata": {
    "scrolled": true
   },
   "outputs": [],
   "source": [
    "class ConceptDataset(Dataset):\n",
    "    def __init__(self, all_samples, is_emb=False):\n",
    "        self.samples = all_samples\n",
    "        self.is_emb = is_emb\n",
    "        with open(pjoin(cwd, 'data', 'mouse.json'), \"r\") as file:\n",
    "            self.m_concepts = json.loads(file.read())\n",
    "        with open(pjoin(cwd, 'data', 'human.json'), \"r\") as file:\n",
    "            self.h_concepts = json.loads(file.read())\n",
    " \n",
    "    def __getitem__(self, idx):\n",
    "        y = torch.tensor(self.samples[idx]['label'], dtype=torch.float32)\n",
    "        concepts = self.samples[idx]['key'].split('_')\n",
    "        if self.is_emb:\n",
    "            m_concept = self.m_concepts[concepts[0]]\n",
    "            m_concept = np.mean(m_concept['embed'], axis=0)\n",
    "            h_concept = self.h_concepts[concepts[1]]\n",
    "            h_concept = np.mean(h_concept['embed'], axis=0)\n",
    "            x = torch.from_numpy(np.mean([m_concept, h_concept], axis=0)).float()\n",
    "        else:\n",
    "            m_rep = joblib.load(pjoin(cwd, 'data', 'representations', 'mouse', f'{concepts[0]}.pkl'))\n",
    "            h_rep = joblib.load(pjoin(cwd, 'data', 'representations', 'human', f'{concepts[1]}.pkl'))\n",
    "            x = torch.from_numpy(np.mean([m_rep, h_rep], axis=0)).float()\n",
    "        \n",
    "        return x, y\n",
    "    \n",
    "    def __len__(self):\n",
    "        return len(self.samples)"
   ]
  },
  {
   "cell_type": "code",
   "execution_count": 7,
   "metadata": {},
   "outputs": [],
   "source": [
    "def train(model, train_data, validation_data, train_device, num_epochs=400, batch_size=64, learning_rate=1e-3):\n",
    "    criterion = nn.BCELoss()\n",
    "    optimizer = torch.optim.Adam(model.parameters(),\n",
    "                                 lr=learning_rate, \n",
    "                                 weight_decay=1e-5)\n",
    "    train_loader = DataLoader(train_data, batch_size=batch_size, shuffle=True)\n",
    "    correct = 0\n",
    "    true_classes = []\n",
    "    predicted_classes = []\n",
    "    train_outputs = []\n",
    "    validation_outputs = []\n",
    "    for epoch in range(num_epochs):\n",
    "        model.train()\n",
    "        for i,(x_train, y_train) in enumerate(train_loader):\n",
    "            x_train = x_train.to(device)\n",
    "            y_train = y_train.to(device)\n",
    "            output = model(x_train)\n",
    "            loss = criterion(output, y_train.reshape(-1,1))\n",
    "            loss.backward()  # Derive gradients.\n",
    "            optimizer.step()  # Update parameters based on gradients.\n",
    "            optimizer.zero_grad()  # Clear gradients.\n",
    "            \n",
    "            predicted_classes += output.reshape(-1).cpu().detach().numpy().round().tolist()\n",
    "            true_classes += y_train.cpu().tolist()\n",
    "            correct += int((torch.from_numpy(output.reshape(-1).cpu().detach().numpy().round()) == y_train.cpu()).sum())\n",
    "        epoch_train_acc = correct/len(true_classes)\n",
    "        val_corrects, val_true_classes, val_predicted_classes = test(model, validation_data, train_device, batch_size=batch_size)\n",
    "        epoch_val_acc = val_corrects/len(val_true_classes)\n",
    "        train_outputs.append(epoch_train_acc)\n",
    "        validation_outputs.append(epoch_val_acc)\n",
    "        if ((epoch+1) % 10) == 0:\n",
    "            epoch_info = ' Epoch:{}, Training Acc:{:.4f}, Validation Acc:{:.4f} '.format(epoch+1, epoch_train_acc, epoch_val_acc)\n",
    "            print(epoch_info.center(len(epoch_info) + 20, '='))\n",
    "    return train_outputs, validation_outputs, predicted_classes, true_classes"
   ]
  },
  {
   "cell_type": "code",
   "execution_count": 8,
   "metadata": {},
   "outputs": [],
   "source": [
    "def test(model, test_data, test_device, batch_size=64):\n",
    "    model.eval()\n",
    "\n",
    "    test_loader = DataLoader(test_data, batch_size=batch_size, shuffle=False)\n",
    "    correct = 0\n",
    "    true_classes = []\n",
    "    predicted_classes = []\n",
    "    for i,(x_test, y_test) in enumerate(test_loader):\n",
    "        x_test = x_test.to(test_device)\n",
    "        y_test = y_test.to(test_device)\n",
    "        output = model(x_test)\n",
    "        predicted_classes += output.reshape(-1).cpu().detach().numpy().round().tolist()\n",
    "        true_classes += y_test.cpu().tolist()\n",
    "        correct += int((torch.from_numpy(output.reshape(-1).cpu().detach().numpy().round()) == y_test.cpu()).sum()) \n",
    "    return correct, true_classes, predicted_classes"
   ]
  },
  {
   "cell_type": "code",
   "execution_count": 9,
   "metadata": {},
   "outputs": [
    {
     "name": "stdout",
     "output_type": "stream",
     "text": [
      "Training will be done on cuda:0\n"
     ]
    }
   ],
   "source": [
    "device = torch.device(\"cuda:0\" if torch.cuda.is_available() else \"cpu\")\n",
    "batch = 64\n",
    "epochs = 400\n",
    "\n",
    "print(f'Training will be done on {device}')"
   ]
  },
  {
   "cell_type": "markdown",
   "metadata": {},
   "source": [
    "## Training Using Representations"
   ]
  },
  {
   "cell_type": "code",
   "execution_count": 10,
   "metadata": {},
   "outputs": [],
   "source": [
    "train_size = math.ceil(len(dataset) *0.7)\n",
    "all_train = dataset[:train_size]\n",
    "train_split = math.ceil(len(all_train) * 0.7)\n",
    "\n",
    "train_data = all_train[:train_split]\n",
    "validation_data = all_train[train_split:]\n",
    "test_data = dataset[train_size:]\n",
    "\n",
    "#DataLoader\n",
    "train_set = ConceptDataset(train_data, is_emb=False)\n",
    "validation_set = ConceptDataset(validation_data, is_emb=False)\n",
    "test_set = ConceptDataset(test_data, is_emb=False)"
   ]
  },
  {
   "cell_type": "markdown",
   "metadata": {},
   "source": [
    "### Training the classifier to use the representations"
   ]
  },
  {
   "cell_type": "code",
   "execution_count": 11,
   "metadata": {},
   "outputs": [
    {
     "name": "stdout",
     "output_type": "stream",
     "text": [
      "RepMNNClassifier(\n",
      "  (fc1): Linear(in_features=64, out_features=32, bias=True)\n",
      "  (fc2): Linear(in_features=32, out_features=16, bias=True)\n",
      "  (fc3): Linear(in_features=16, out_features=1, bias=True)\n",
      ")\n"
     ]
    }
   ],
   "source": [
    "rep_model = RepMNNClassifier()\n",
    "rep_model = rep_model.to(device)\n",
    "print(rep_model)"
   ]
  },
  {
   "cell_type": "code",
   "execution_count": 12,
   "metadata": {},
   "outputs": [
    {
     "name": "stdout",
     "output_type": "stream",
     "text": [
      "========== Epoch:10, Training Acc:0.6517, Validation Acc:0.7123 ==========\n",
      "========== Epoch:20, Training Acc:0.7276, Validation Acc:0.8113 ==========\n",
      "========== Epoch:30, Training Acc:0.7711, Validation Acc:0.8459 ==========\n",
      "========== Epoch:40, Training Acc:0.8017, Validation Acc:0.8475 ==========\n",
      "========== Epoch:50, Training Acc:0.8243, Validation Acc:0.8585 ==========\n",
      "========== Epoch:60, Training Acc:0.8413, Validation Acc:0.8632 ==========\n",
      "========== Epoch:70, Training Acc:0.8553, Validation Acc:0.8679 ==========\n",
      "========== Epoch:80, Training Acc:0.8670, Validation Acc:0.8601 ==========\n",
      "========== Epoch:90, Training Acc:0.8766, Validation Acc:0.8569 ==========\n",
      "========== Epoch:100, Training Acc:0.8849, Validation Acc:0.8616 ==========\n",
      "========== Epoch:110, Training Acc:0.8922, Validation Acc:0.8569 ==========\n",
      "========== Epoch:120, Training Acc:0.8987, Validation Acc:0.8569 ==========\n",
      "========== Epoch:130, Training Acc:0.9046, Validation Acc:0.8538 ==========\n",
      "========== Epoch:140, Training Acc:0.9099, Validation Acc:0.8506 ==========\n",
      "========== Epoch:150, Training Acc:0.9148, Validation Acc:0.8506 ==========\n",
      "========== Epoch:160, Training Acc:0.9193, Validation Acc:0.8475 ==========\n",
      "========== Epoch:170, Training Acc:0.9234, Validation Acc:0.8475 ==========\n",
      "========== Epoch:180, Training Acc:0.9272, Validation Acc:0.8491 ==========\n",
      "========== Epoch:190, Training Acc:0.9307, Validation Acc:0.8506 ==========\n",
      "========== Epoch:200, Training Acc:0.9339, Validation Acc:0.8381 ==========\n",
      "========== Epoch:210, Training Acc:0.9368, Validation Acc:0.8412 ==========\n",
      "========== Epoch:220, Training Acc:0.9395, Validation Acc:0.8412 ==========\n",
      "========== Epoch:230, Training Acc:0.9420, Validation Acc:0.8506 ==========\n",
      "========== Epoch:240, Training Acc:0.9443, Validation Acc:0.8475 ==========\n",
      "========== Epoch:250, Training Acc:0.9465, Validation Acc:0.8506 ==========\n",
      "========== Epoch:260, Training Acc:0.9485, Validation Acc:0.8491 ==========\n",
      "========== Epoch:270, Training Acc:0.9504, Validation Acc:0.8491 ==========\n",
      "========== Epoch:280, Training Acc:0.9522, Validation Acc:0.8553 ==========\n",
      "========== Epoch:290, Training Acc:0.9538, Validation Acc:0.8553 ==========\n",
      "========== Epoch:300, Training Acc:0.9554, Validation Acc:0.8585 ==========\n",
      "========== Epoch:310, Training Acc:0.9568, Validation Acc:0.8553 ==========\n",
      "========== Epoch:320, Training Acc:0.9582, Validation Acc:0.8569 ==========\n",
      "========== Epoch:330, Training Acc:0.9594, Validation Acc:0.8569 ==========\n",
      "========== Epoch:340, Training Acc:0.9606, Validation Acc:0.8601 ==========\n",
      "========== Epoch:350, Training Acc:0.9617, Validation Acc:0.8538 ==========\n",
      "========== Epoch:360, Training Acc:0.9628, Validation Acc:0.8616 ==========\n",
      "========== Epoch:370, Training Acc:0.9638, Validation Acc:0.8569 ==========\n",
      "========== Epoch:380, Training Acc:0.9648, Validation Acc:0.8569 ==========\n",
      "========== Epoch:390, Training Acc:0.9657, Validation Acc:0.8585 ==========\n",
      "========== Epoch:400, Training Acc:0.9665, Validation Acc:0.8585 ==========\n"
     ]
    }
   ],
   "source": [
    "rep_train_outputs, rep_validation_outputs, rep_predicted_classes, rep_true_classes = train(rep_model, train_set, validation_set, device, num_epochs=epochs, batch_size=batch)\n",
    "rep_val_correct, rep_val_true_classes, rep_val_predicted_classes = test(rep_model, validation_set, device, batch_size=batch)"
   ]
  },
  {
   "cell_type": "markdown",
   "metadata": {},
   "source": [
    "### Comparing the results"
   ]
  },
  {
   "cell_type": "code",
   "execution_count": 13,
   "metadata": {},
   "outputs": [
    {
     "data": {
      "image/png": "[encoded data removed]",
      "text/plain": [
       "<Figure size 432x288 with 1 Axes>"
      ]
     },
     "metadata": {
      "needs_background": "light"
     },
     "output_type": "display_data"
    }
   ],
   "source": [
    "epochs_list = range(1, epochs+1)\n",
    "plt.plot(epochs_list, rep_train_outputs, label = \"Train Accuracy\")\n",
    "plt.plot(epochs_list, rep_validation_outputs, label = \"Validation Accuracy\")\n",
    "plt.title(\"Train and Validation Accuracy When Using Representations\")\n",
    "plt.legend()\n",
    "plt.savefig(pjoin(cwd, 'data', 'rep_classification_train_validation_accuracy'))\n",
    "plt.show()"
   ]
  },
  {
   "cell_type": "code",
   "execution_count": 14,
   "metadata": {},
   "outputs": [
    {
     "name": "stdout",
     "output_type": "stream",
     "text": [
      "Test Accuracy: 87.23872387238724%\n",
      "              precision    recall  f1-score   support\n",
      "\n",
      "     Aligned       0.84      0.89      0.86       317\n",
      " Not Aligned       0.88      0.83      0.85       319\n",
      "\n",
      "    accuracy                           0.86       636\n",
      "   macro avg       0.86      0.86      0.86       636\n",
      "weighted avg       0.86      0.86      0.86       636\n",
      "\n"
     ]
    }
   ],
   "source": [
    "rep_test_correct, rep_test_true_classes, rep_test_predicted_classes = test(rep_model, test_set, device, batch_size=batch)\n",
    "print(f'Test Accuracy: {(rep_test_correct/len(rep_test_true_classes))*100}%')\n",
    "print(classification_report(rep_val_true_classes, rep_val_predicted_classes, target_names=['Aligned', 'Not Aligned']))"
   ]
  },
  {
   "cell_type": "markdown",
   "metadata": {},
   "source": [
    "### NB Classifier"
   ]
  },
  {
   "cell_type": "code",
   "execution_count": 15,
   "metadata": {},
   "outputs": [
    {
     "name": "stdout",
     "output_type": "stream",
     "text": [
      "Accuracy: 85.63353744700895%\n",
      "              precision    recall  f1-score   support\n",
      "\n",
      "     Aligned       0.89      0.84      0.86      1145\n",
      " Not Aligned       0.82      0.88      0.85       978\n",
      "\n",
      "    accuracy                           0.86      2123\n",
      "   macro avg       0.86      0.86      0.86      2123\n",
      "weighted avg       0.86      0.86      0.86      2123\n",
      "\n"
     ]
    }
   ],
   "source": [
    "with open(pjoin(cwd, 'data', 'mouse.json'), \"r\") as file:\n",
    "    m_concepts = json.loads(file.read())\n",
    "with open(pjoin(cwd, 'data', 'human.json'), \"r\") as file:\n",
    "    h_concepts = json.loads(file.read())\n",
    "\n",
    "    \n",
    "X = []\n",
    "y = []\n",
    "for data in dataset:\n",
    "    concepts = data['key'].split('_')\n",
    "    m_rep = joblib.load(pjoin(cwd, 'data', 'representations', 'mouse', f'{concepts[0]}.pkl'))\n",
    "    h_rep = joblib.load(pjoin(cwd, 'data', 'representations', 'human', f'{concepts[1]}.pkl'))\n",
    "    X.append(np.mean([m_rep, h_rep], axis=0))\n",
    "    y.append(data['label'])\n",
    "\n",
    "X_train, X_test, y_train, y_test = train_test_split(np.array(X), np.array(y), test_size=0.7, random_state=1234)\n",
    "rep_gnb = GaussianNB()\n",
    "y_pred = rep_gnb.fit(X_train, y_train).predict(X_test)\n",
    "print(f'Accuracy: {((y_test == y_pred).sum()/X_test.shape[0])*100}%')\n",
    "print(classification_report(y_pred, y_test, target_names=['Aligned', 'Not Aligned']))"
   ]
  },
  {
   "cell_type": "markdown",
   "metadata": {},
   "source": [
    "## Training Using Embeddings"
   ]
  },
  {
   "cell_type": "code",
   "execution_count": 16,
   "metadata": {},
   "outputs": [],
   "source": [
    "#DataLoader\n",
    "train_set = ConceptDataset(train_data, is_emb=True)\n",
    "validation_set = ConceptDataset(validation_data, is_emb=True)\n",
    "test_set = ConceptDataset(test_data, is_emb=True)"
   ]
  },
  {
   "cell_type": "code",
   "execution_count": 17,
   "metadata": {},
   "outputs": [
    {
     "name": "stdout",
     "output_type": "stream",
     "text": [
      "EmbMNNClassifier(\n",
      "  (fc1): Linear(in_features=200, out_features=128, bias=True)\n",
      "  (fc2): Linear(in_features=128, out_features=64, bias=True)\n",
      "  (fc3): Linear(in_features=64, out_features=1, bias=True)\n",
      ")\n"
     ]
    }
   ],
   "source": [
    "emb_model = EmbMNNClassifier()\n",
    "emb_model = emb_model.to(device)\n",
    "print(emb_model)"
   ]
  },
  {
   "cell_type": "code",
   "execution_count": 18,
   "metadata": {},
   "outputs": [
    {
     "name": "stdout",
     "output_type": "stream",
     "text": [
      "========== Epoch:10, Training Acc:0.7485, Validation Acc:0.7862 ==========\n",
      "========== Epoch:20, Training Acc:0.8370, Validation Acc:0.8286 ==========\n",
      "========== Epoch:30, Training Acc:0.8853, Validation Acc:0.8522 ==========\n",
      "========== Epoch:40, Training Acc:0.9132, Validation Acc:0.8443 ==========\n",
      "========== Epoch:50, Training Acc:0.9305, Validation Acc:0.8475 ==========\n",
      "========== Epoch:60, Training Acc:0.9420, Validation Acc:0.8349 ==========\n",
      "========== Epoch:70, Training Acc:0.9502, Validation Acc:0.8522 ==========\n",
      "========== Epoch:80, Training Acc:0.9564, Validation Acc:0.8475 ==========\n",
      "========== Epoch:90, Training Acc:0.9613, Validation Acc:0.8428 ==========\n",
      "========== Epoch:100, Training Acc:0.9652, Validation Acc:0.8522 ==========\n",
      "========== Epoch:110, Training Acc:0.9683, Validation Acc:0.8475 ==========\n",
      "========== Epoch:120, Training Acc:0.9710, Validation Acc:0.8491 ==========\n",
      "========== Epoch:130, Training Acc:0.9732, Validation Acc:0.8522 ==========\n",
      "========== Epoch:140, Training Acc:0.9751, Validation Acc:0.8459 ==========\n",
      "========== Epoch:150, Training Acc:0.9768, Validation Acc:0.8538 ==========\n",
      "========== Epoch:160, Training Acc:0.9782, Validation Acc:0.8522 ==========\n",
      "========== Epoch:170, Training Acc:0.9795, Validation Acc:0.8506 ==========\n",
      "========== Epoch:180, Training Acc:0.9806, Validation Acc:0.8553 ==========\n",
      "========== Epoch:190, Training Acc:0.9817, Validation Acc:0.8506 ==========\n",
      "========== Epoch:200, Training Acc:0.9826, Validation Acc:0.8538 ==========\n",
      "========== Epoch:210, Training Acc:0.9834, Validation Acc:0.8522 ==========\n",
      "========== Epoch:220, Training Acc:0.9842, Validation Acc:0.8506 ==========\n",
      "========== Epoch:230, Training Acc:0.9848, Validation Acc:0.8553 ==========\n",
      "========== Epoch:240, Training Acc:0.9855, Validation Acc:0.8538 ==========\n",
      "========== Epoch:250, Training Acc:0.9861, Validation Acc:0.8553 ==========\n",
      "========== Epoch:260, Training Acc:0.9866, Validation Acc:0.8506 ==========\n",
      "========== Epoch:270, Training Acc:0.9871, Validation Acc:0.8585 ==========\n",
      "========== Epoch:280, Training Acc:0.9876, Validation Acc:0.8538 ==========\n",
      "========== Epoch:290, Training Acc:0.9880, Validation Acc:0.8443 ==========\n",
      "========== Epoch:300, Training Acc:0.9882, Validation Acc:0.8553 ==========\n",
      "========== Epoch:310, Training Acc:0.9885, Validation Acc:0.8553 ==========\n",
      "========== Epoch:320, Training Acc:0.9889, Validation Acc:0.8538 ==========\n",
      "========== Epoch:330, Training Acc:0.9892, Validation Acc:0.8538 ==========\n",
      "========== Epoch:340, Training Acc:0.9895, Validation Acc:0.8553 ==========\n",
      "========== Epoch:350, Training Acc:0.9898, Validation Acc:0.8553 ==========\n",
      "========== Epoch:360, Training Acc:0.9901, Validation Acc:0.8553 ==========\n",
      "========== Epoch:370, Training Acc:0.9904, Validation Acc:0.8553 ==========\n",
      "========== Epoch:380, Training Acc:0.9906, Validation Acc:0.8553 ==========\n",
      "========== Epoch:390, Training Acc:0.9909, Validation Acc:0.8553 ==========\n",
      "========== Epoch:400, Training Acc:0.9911, Validation Acc:0.8569 ==========\n"
     ]
    }
   ],
   "source": [
    "emb_train_outputs, emb_validation_outputs, emb_predicted_classes, emb_true_classes = train(emb_model, train_set, validation_set, device, num_epochs=epochs, batch_size=batch)\n",
    "emb_val_correct, emb_val_true_classes, emb_val_predicted_classes = test(emb_model, validation_set, device, batch_size=batch)"
   ]
  },
  {
   "cell_type": "code",
   "execution_count": 19,
   "metadata": {},
   "outputs": [
    {
     "data": {
      "image/png": "[encoded data removed]",
      "text/plain": [
       "<Figure size 432x288 with 1 Axes>"
      ]
     },
     "metadata": {
      "needs_background": "light"
     },
     "output_type": "display_data"
    }
   ],
   "source": [
    "epochs_list = range(1, epochs+1)\n",
    "plt.plot(epochs_list, emb_train_outputs, label = \"Train Accuracy\")\n",
    "plt.plot(epochs_list, emb_validation_outputs, label = \"Validation Accuracy\")\n",
    "plt.title(\"Train and Validation Accuracy When Using Embeddings\")\n",
    "plt.legend()\n",
    "plt.savefig(pjoin(cwd, 'data', 'emb_classification_train_validation_accuracy'))\n",
    "plt.show()"
   ]
  },
  {
   "cell_type": "code",
   "execution_count": 20,
   "metadata": {},
   "outputs": [
    {
     "name": "stdout",
     "output_type": "stream",
     "text": [
      "Test Accuracy: 86.24862486248624%\n",
      "              precision    recall  f1-score   support\n",
      "\n",
      "     Aligned       0.84      0.89      0.87       450\n",
      " Not Aligned       0.89      0.83      0.86       459\n",
      "\n",
      "    accuracy                           0.86       909\n",
      "   macro avg       0.86      0.86      0.86       909\n",
      "weighted avg       0.86      0.86      0.86       909\n",
      "\n"
     ]
    }
   ],
   "source": [
    "emb_test_correct, emb_test_true_classes, emb_test_predicted_classes = test(emb_model, test_set, device, batch_size=batch)\n",
    "print(f'Test Accuracy: {(emb_test_correct/len(emb_test_true_classes))*100}%')\n",
    "print(classification_report(emb_test_true_classes, emb_test_predicted_classes, target_names=['Aligned', 'Not Aligned']))"
   ]
  },
  {
   "cell_type": "markdown",
   "metadata": {},
   "source": [
    "### NB Classifier"
   ]
  },
  {
   "cell_type": "code",
   "execution_count": 21,
   "metadata": {},
   "outputs": [
    {
     "name": "stdout",
     "output_type": "stream",
     "text": [
      "Accuracy: 84.22044276966557%\n",
      "              precision    recall  f1-score   support\n",
      "\n",
      "     Aligned       0.90      0.81      0.85      1199\n",
      " Not Aligned       0.78      0.89      0.83       924\n",
      "\n",
      "    accuracy                           0.84      2123\n",
      "   macro avg       0.84      0.85      0.84      2123\n",
      "weighted avg       0.85      0.84      0.84      2123\n",
      "\n"
     ]
    }
   ],
   "source": [
    "X = []\n",
    "y = []\n",
    "for data in dataset:\n",
    "    concepts = data['key'].split('_')\n",
    "    m_rep = joblib.load(pjoin(cwd, 'data', 'representations', 'mouse', f'{concepts[0]}.pkl'))\n",
    "    h_rep = joblib.load(pjoin(cwd, 'data', 'representations', 'human', f'{concepts[1]}.pkl'))\n",
    "    m_concept = m_concepts[concepts[0]]\n",
    "    m_concept = np.mean(m_concept['embed'], axis=0)\n",
    "    h_concept = h_concepts[concepts[1]]\n",
    "    h_concept = np.mean(h_concept['embed'], axis=0)\n",
    "    X.append(np.mean([m_concept, h_concept], axis=0))\n",
    "    y.append(data['label'])\n",
    "\n",
    "X_train, X_test, y_train, y_test = train_test_split(np.array(X), np.array(y), test_size=0.7, random_state=1234)\n",
    "emb_gnb = GaussianNB()\n",
    "y_pred = emb_gnb.fit(X_train, y_train).predict(X_test)\n",
    "print(f'Accuracy: {((y_test == y_pred).sum()/X_test.shape[0])*100}%')\n",
    "print(classification_report(y_pred, y_test, target_names=['Aligned', 'Not Aligned']))"
   ]
  }
 ],
 "metadata": {
  "kernelspec": {
   "display_name": "Python 3 (ipykernel)",
   "language": "python",
   "name": "python3"
  },
  "language_info": {
   "codemirror_mode": {
    "name": "ipython",
    "version": 3
   },
   "file_extension": ".py",
   "mimetype": "text/x-python",
   "name": "python",
   "nbconvert_exporter": "python",
   "pygments_lexer": "ipython3",
   "version": "3.9.7"
  }
 },
 "nbformat": 4,
 "nbformat_minor": 1
}
