{
 "cells": [
  {
   "cell_type": "markdown",
   "metadata": {
    "collapsed": true,
    "pycharm": {
     "name": "#%% md\n"
    }
   },
   "source": [
    "# Training the Classifiers\n",
    "In this file, we will train our classifiers. We will first use the representations created using the GNN AutoEncoder (concept calues after applying the GNN AutoEncoder) to create a MNN Classifier and a Naive Bayes Classifier. Then we only use the embeddings (concept values before applying the GNN AutoEncoder) to create a MNN Classifier and a Naive Bayes Classifier."
   ]
  },
  {
   "cell_type": "markdown",
   "metadata": {
    "pycharm": {
     "name": "#%% md\n"
    }
   },
   "source": [
    "### Importing the needed packages"
   ]
  },
  {
   "cell_type": "code",
   "execution_count": 1,
   "metadata": {
    "pycharm": {
     "name": "#%%\n"
    }
   },
   "outputs": [],
   "source": [
    "import os\n",
    "import torch\n",
    "from torch import nn\n",
    "from torch.utils.data import Dataset, DataLoader\n",
    "from models import RepMNNClassifier, EmbMNNClassifier\n",
    "from utils import ConceptGraphDataset\n",
    "import math\n",
    "from random import randint, shuffle\n",
    "import pandas as pd\n",
    "import numpy as np\n",
    "import joblib\n",
    "import json\n",
    "from sklearn.model_selection import train_test_split\n",
    "from sklearn.naive_bayes import GaussianNB\n",
    "import matplotlib.pyplot as plt\n",
    "from sklearn.metrics import classification_report, f1_score"
   ]
  },
  {
   "cell_type": "code",
   "execution_count": 2,
   "metadata": {},
   "outputs": [
    {
     "data": {
      "text/plain": [
       "<torch._C.Generator at 0x2a013dd9250>"
      ]
     },
     "execution_count": 2,
     "metadata": {},
     "output_type": "execute_result"
    }
   ],
   "source": [
    "cwd = os.getcwd()\n",
    "path = os.path\n",
    "pjoin = path.join\n",
    "torch.manual_seed(12345)"
   ]
  },
  {
   "cell_type": "code",
   "execution_count": 3,
   "metadata": {},
   "outputs": [],
   "source": [
    "dataset = ConceptGraphDataset(root=cwd)\n",
    "\n",
    "mouse = []\n",
    "human = []\n",
    "for i in range(0, len(dataset)):\n",
    "    data = dataset[i]\n",
    "    ontology = data.ontology\n",
    "    if ontology == 'human':\n",
    "        human.append(data)\n",
    "    elif ontology == 'mouse':\n",
    "        mouse.append(data)\n",
    "    else:\n",
    "        raise Exception('Ontology Not Supported!')"
   ]
  },
  {
   "cell_type": "code",
   "execution_count": 4,
   "metadata": {},
   "outputs": [],
   "source": [
    "ref = pd.read_csv(pjoin(cwd, 'data', 'ref.csv'), names=['mouse', 'human'], header=None)\n",
    "label_data = {}\n",
    "for index, row in ref.iterrows():\n",
    "    label_data[f'{row[\"mouse\"]}_{row[\"human\"]}'] = 1\n",
    "total_labels = 2 * len(label_data)\n",
    "while(len(label_data) < total_labels):\n",
    "    random_mouse_int = randint(0, (len(mouse)-1))\n",
    "    random_human_int = randint(0, (len(human)-1))\n",
    "    m_concept_id = mouse[random_mouse_int].mappings[0]\n",
    "    h_concept_id = human[random_human_int].mappings[0]\n",
    "    if f'{m_concept_id}_{random_human_int}' not in label_data:\n",
    "        label_data[f'{m_concept_id}_{h_concept_id}'] = 0"
   ]
  },
  {
   "cell_type": "code",
   "execution_count": 5,
   "metadata": {},
   "outputs": [],
   "source": [
    "dataset = [{'key': key, 'label': label_data[key]} for key in label_data]\n",
    "shuffle(dataset)"
   ]
  },
  {
   "cell_type": "code",
   "execution_count": 6,
   "metadata": {
    "scrolled": true
   },
   "outputs": [],
   "source": [
    "class ConceptDataset(Dataset):\n",
    "    def __init__(self, all_samples, is_emb=False):\n",
    "        self.samples = all_samples\n",
    "        self.is_emb = is_emb\n",
    "        with open(pjoin(cwd, 'data', 'mouse.json'), \"r\") as file:\n",
    "            self.m_concepts = json.loads(file.read())\n",
    "        with open(pjoin(cwd, 'data', 'human.json'), \"r\") as file:\n",
    "            self.h_concepts = json.loads(file.read())\n",
    " \n",
    "    def __getitem__(self, idx):\n",
    "        y = torch.tensor(self.samples[idx]['label'], dtype=torch.float32)\n",
    "        concepts = self.samples[idx]['key'].split('_')\n",
    "        if self.is_emb:\n",
    "            m_concept = self.m_concepts[concepts[0]]\n",
    "            m_concept = np.mean(m_concept['embed'], axis=0)\n",
    "            h_concept = self.h_concepts[concepts[1]]\n",
    "            h_concept = np.mean(h_concept['embed'], axis=0)\n",
    "            x = torch.from_numpy(np.mean([m_concept, h_concept], axis=0)).float()\n",
    "        else:\n",
    "            m_rep = joblib.load(pjoin(cwd, 'data', 'representations', 'mouse', f'{concepts[0]}.pkl'))\n",
    "            h_rep = joblib.load(pjoin(cwd, 'data', 'representations', 'human', f'{concepts[1]}.pkl'))\n",
    "            x = torch.from_numpy(np.mean([m_rep, h_rep], axis=0)).float()\n",
    "        \n",
    "        return x, y\n",
    "    \n",
    "    def __len__(self):\n",
    "        return len(self.samples)"
   ]
  },
  {
   "cell_type": "code",
   "execution_count": 7,
   "metadata": {},
   "outputs": [],
   "source": [
    "def train(model, train_data, validation_data, train_device, num_epochs=400, batch_size=64, learning_rate=1e-3):\n",
    "    criterion = nn.BCELoss()\n",
    "    optimizer = torch.optim.Adam(model.parameters(),\n",
    "                                 lr=learning_rate, \n",
    "                                 weight_decay=1e-5)\n",
    "    train_loader = DataLoader(train_data, batch_size=batch_size, shuffle=True)\n",
    "    correct = 0\n",
    "    true_classes = []\n",
    "    predicted_classes = []\n",
    "    train_outputs = []\n",
    "    validation_outputs = []\n",
    "    for epoch in range(num_epochs):\n",
    "        model.train()\n",
    "        for i,(x_train, y_train) in enumerate(train_loader):\n",
    "            x_train = x_train.to(device)\n",
    "            y_train = y_train.to(device)\n",
    "            output = model(x_train)\n",
    "            loss = criterion(output, y_train.reshape(-1,1))\n",
    "            loss.backward()  # Derive gradients.\n",
    "            optimizer.step()  # Update parameters based on gradients.\n",
    "            optimizer.zero_grad()  # Clear gradients.\n",
    "            \n",
    "            predicted_classes += output.reshape(-1).cpu().detach().numpy().round().tolist()\n",
    "            true_classes += y_train.cpu().tolist()\n",
    "            correct += int((torch.from_numpy(output.reshape(-1).cpu().detach().numpy().round()) == y_train.cpu()).sum())\n",
    "        epoch_train_acc = correct/len(true_classes)\n",
    "        val_corrects, val_true_classes, val_predicted_classes = test(model, validation_data, train_device, batch_size=batch_size)\n",
    "        epoch_val_acc = val_corrects/len(val_true_classes)\n",
    "        train_outputs.append(epoch_train_acc)\n",
    "        validation_outputs.append(epoch_val_acc)\n",
    "        if ((epoch+1) % 10) == 0:\n",
    "            epoch_info = ' Epoch:{}, Training Acc:{:.4f}, Validation Acc:{:.4f} '.format(epoch+1, epoch_train_acc, epoch_val_acc)\n",
    "            print(epoch_info.center(len(epoch_info) + 20, '='))\n",
    "    return train_outputs, validation_outputs, predicted_classes, true_classes"
   ]
  },
  {
   "cell_type": "code",
   "execution_count": 8,
   "metadata": {},
   "outputs": [],
   "source": [
    "def test(model, test_data, test_device, batch_size=64):\n",
    "    model.eval()\n",
    "\n",
    "    test_loader = DataLoader(test_data, batch_size=batch_size, shuffle=False)\n",
    "    correct = 0\n",
    "    true_classes = []\n",
    "    predicted_classes = []\n",
    "    for i,(x_test, y_test) in enumerate(test_loader):\n",
    "        x_test = x_test.to(test_device)\n",
    "        y_test = y_test.to(test_device)\n",
    "        output = model(x_test)\n",
    "        predicted_classes += output.reshape(-1).cpu().detach().numpy().round().tolist()\n",
    "        true_classes += y_test.cpu().tolist()\n",
    "        correct += int((torch.from_numpy(output.reshape(-1).cpu().detach().numpy().round()) == y_test.cpu()).sum()) \n",
    "    return correct, true_classes, predicted_classes"
   ]
  },
  {
   "cell_type": "code",
   "execution_count": 9,
   "metadata": {},
   "outputs": [
    {
     "name": "stdout",
     "output_type": "stream",
     "text": [
      "Training will be done on cuda:0\n"
     ]
    }
   ],
   "source": [
    "device = torch.device(\"cuda:0\" if torch.cuda.is_available() else \"cpu\")\n",
    "batch = 64\n",
    "epochs = 400\n",
    "\n",
    "print(f'Training will be done on {device}')"
   ]
  },
  {
   "cell_type": "markdown",
   "metadata": {},
   "source": [
    "## Training Using Representations"
   ]
  },
  {
   "cell_type": "code",
   "execution_count": 10,
   "metadata": {},
   "outputs": [],
   "source": [
    "train_size = math.ceil(len(dataset) *0.7)\n",
    "all_train = dataset[:train_size]\n",
    "train_split = math.ceil(len(all_train) * 0.7)\n",
    "\n",
    "train_data = all_train[:train_split]\n",
    "validation_data = all_train[train_split:]\n",
    "test_data = dataset[train_size:]\n",
    "\n",
    "#DataLoader\n",
    "train_set = ConceptDataset(train_data, is_emb=False)\n",
    "validation_set = ConceptDataset(validation_data, is_emb=False)\n",
    "test_set = ConceptDataset(test_data, is_emb=False)"
   ]
  },
  {
   "cell_type": "markdown",
   "metadata": {},
   "source": [
    "### Training the MNN Classifier to use the representations"
   ]
  },
  {
   "cell_type": "code",
   "execution_count": 11,
   "metadata": {},
   "outputs": [
    {
     "name": "stdout",
     "output_type": "stream",
     "text": [
      "RepMNNClassifier(\n",
      "  (fc1): Linear(in_features=64, out_features=32, bias=True)\n",
      "  (fc2): Linear(in_features=32, out_features=16, bias=True)\n",
      "  (fc3): Linear(in_features=16, out_features=1, bias=True)\n",
      ")\n"
     ]
    }
   ],
   "source": [
    "rep_model = RepMNNClassifier()\n",
    "rep_model = rep_model.to(device)\n",
    "print(rep_model)"
   ]
  },
  {
   "cell_type": "code",
   "execution_count": 12,
   "metadata": {},
   "outputs": [
    {
     "name": "stdout",
     "output_type": "stream",
     "text": [
      "========== Epoch:10, Training Acc:0.5976, Validation Acc:0.7044 ==========\n",
      "========== Epoch:20, Training Acc:0.6844, Validation Acc:0.7594 ==========\n",
      "========== Epoch:30, Training Acc:0.7351, Validation Acc:0.7925 ==========\n",
      "========== Epoch:40, Training Acc:0.7669, Validation Acc:0.8050 ==========\n",
      "========== Epoch:50, Training Acc:0.7887, Validation Acc:0.8160 ==========\n",
      "========== Epoch:60, Training Acc:0.8056, Validation Acc:0.8223 ==========\n",
      "========== Epoch:70, Training Acc:0.8196, Validation Acc:0.8349 ==========\n",
      "========== Epoch:80, Training Acc:0.8320, Validation Acc:0.8381 ==========\n",
      "========== Epoch:90, Training Acc:0.8422, Validation Acc:0.8365 ==========\n",
      "========== Epoch:100, Training Acc:0.8513, Validation Acc:0.8333 ==========\n",
      "========== Epoch:110, Training Acc:0.8593, Validation Acc:0.8349 ==========\n",
      "========== Epoch:120, Training Acc:0.8666, Validation Acc:0.8365 ==========\n",
      "========== Epoch:130, Training Acc:0.8732, Validation Acc:0.8365 ==========\n",
      "========== Epoch:140, Training Acc:0.8794, Validation Acc:0.8270 ==========\n",
      "========== Epoch:150, Training Acc:0.8849, Validation Acc:0.8318 ==========\n",
      "========== Epoch:160, Training Acc:0.8900, Validation Acc:0.8302 ==========\n",
      "========== Epoch:170, Training Acc:0.8946, Validation Acc:0.8270 ==========\n",
      "========== Epoch:180, Training Acc:0.8989, Validation Acc:0.8302 ==========\n",
      "========== Epoch:190, Training Acc:0.9029, Validation Acc:0.8333 ==========\n",
      "========== Epoch:200, Training Acc:0.9066, Validation Acc:0.8302 ==========\n",
      "========== Epoch:210, Training Acc:0.9100, Validation Acc:0.8286 ==========\n",
      "========== Epoch:220, Training Acc:0.9131, Validation Acc:0.8365 ==========\n",
      "========== Epoch:230, Training Acc:0.9161, Validation Acc:0.8286 ==========\n",
      "========== Epoch:240, Training Acc:0.9189, Validation Acc:0.8349 ==========\n",
      "========== Epoch:250, Training Acc:0.9215, Validation Acc:0.8349 ==========\n",
      "========== Epoch:260, Training Acc:0.9239, Validation Acc:0.8333 ==========\n",
      "========== Epoch:270, Training Acc:0.9263, Validation Acc:0.8286 ==========\n",
      "========== Epoch:280, Training Acc:0.9284, Validation Acc:0.8270 ==========\n",
      "========== Epoch:290, Training Acc:0.9305, Validation Acc:0.8270 ==========\n",
      "========== Epoch:300, Training Acc:0.9324, Validation Acc:0.8270 ==========\n",
      "========== Epoch:310, Training Acc:0.9342, Validation Acc:0.8318 ==========\n",
      "========== Epoch:320, Training Acc:0.9360, Validation Acc:0.8223 ==========\n",
      "========== Epoch:330, Training Acc:0.9376, Validation Acc:0.8302 ==========\n",
      "========== Epoch:340, Training Acc:0.9392, Validation Acc:0.8302 ==========\n",
      "========== Epoch:350, Training Acc:0.9407, Validation Acc:0.8223 ==========\n",
      "========== Epoch:360, Training Acc:0.9422, Validation Acc:0.8270 ==========\n",
      "========== Epoch:370, Training Acc:0.9435, Validation Acc:0.8333 ==========\n",
      "========== Epoch:380, Training Acc:0.9449, Validation Acc:0.8255 ==========\n",
      "========== Epoch:390, Training Acc:0.9462, Validation Acc:0.8255 ==========\n",
      "========== Epoch:400, Training Acc:0.9474, Validation Acc:0.8223 ==========\n"
     ]
    }
   ],
   "source": [
    "rep_train_outputs, rep_validation_outputs, rep_predicted_classes, rep_true_classes = train(rep_model, train_set, validation_set, device, num_epochs=epochs, batch_size=batch)\n",
    "rep_val_correct, rep_val_true_classes, rep_val_predicted_classes = test(rep_model, validation_set, device, batch_size=batch)"
   ]
  },
  {
   "cell_type": "code",
   "execution_count": 13,
   "metadata": {},
   "outputs": [
    {
     "data": {
      "image/png": "[encoded data removed]",
      "text/plain": [
       "<Figure size 432x288 with 1 Axes>"
      ]
     },
     "metadata": {
      "needs_background": "light"
     },
     "output_type": "display_data"
    }
   ],
   "source": [
    "epochs_list = range(1, epochs+1)\n",
    "plt.plot(epochs_list, rep_train_outputs, label = \"Train Accuracy\")\n",
    "plt.plot(epochs_list, rep_validation_outputs, label = \"Validation Accuracy\")\n",
    "plt.title(\"Train and Validation Accuracy When Using Representations\")\n",
    "plt.legend()\n",
    "plt.savefig(pjoin(cwd, 'data', 'rep_classification_train_validation_accuracy'))\n",
    "plt.show()"
   ]
  },
  {
   "cell_type": "code",
   "execution_count": 14,
   "metadata": {},
   "outputs": [
    {
     "name": "stdout",
     "output_type": "stream",
     "text": [
      "Test Accuracy: 86.90869086908691%\n",
      "              precision    recall  f1-score   support\n",
      "\n",
      "     Aligned       0.88      0.85      0.87       455\n",
      " Not Aligned       0.86      0.88      0.87       454\n",
      "\n",
      "    accuracy                           0.87       909\n",
      "   macro avg       0.87      0.87      0.87       909\n",
      "weighted avg       0.87      0.87      0.87       909\n",
      "\n"
     ]
    }
   ],
   "source": [
    "rep_test_correct, rep_test_true_classes, rep_test_predicted_classes = test(rep_model, test_set, device, batch_size=batch)\n",
    "print(f'Test Accuracy: {(rep_test_correct/len(rep_test_true_classes))*100}%')\n",
    "print(classification_report(rep_test_true_classes, rep_test_predicted_classes, target_names=['Aligned', 'Not Aligned']))"
   ]
  },
  {
   "cell_type": "markdown",
   "metadata": {},
   "source": [
    "### NB Classifier"
   ]
  },
  {
   "cell_type": "code",
   "execution_count": 15,
   "metadata": {},
   "outputs": [
    {
     "name": "stdout",
     "output_type": "stream",
     "text": [
      "Accuracy: 84.55016486104569%\n",
      "              precision    recall  f1-score   support\n",
      "\n",
      " Not Aligned       0.87      0.82      0.85      1094\n",
      "     Aligned       0.82      0.87      0.84      1029\n",
      "\n",
      "    accuracy                           0.85      2123\n",
      "   macro avg       0.85      0.85      0.85      2123\n",
      "weighted avg       0.85      0.85      0.85      2123\n",
      "\n"
     ]
    }
   ],
   "source": [
    "with open(pjoin(cwd, 'data', 'mouse.json'), \"r\") as file:\n",
    "    m_concepts = json.loads(file.read())\n",
    "with open(pjoin(cwd, 'data', 'human.json'), \"r\") as file:\n",
    "    h_concepts = json.loads(file.read())\n",
    "\n",
    "    \n",
    "X = []\n",
    "y = []\n",
    "for data in dataset:\n",
    "    concepts = data['key'].split('_')\n",
    "    m_rep = joblib.load(pjoin(cwd, 'data', 'representations', 'mouse', f'{concepts[0]}.pkl'))\n",
    "    h_rep = joblib.load(pjoin(cwd, 'data', 'representations', 'human', f'{concepts[1]}.pkl'))\n",
    "    X.append(np.mean([m_rep, h_rep], axis=0))\n",
    "    y.append(data['label'])\n",
    "\n",
    "rep_X_train, rep_X_test, rep_y_train, rep_y_test = train_test_split(np.array(X), np.array(y), test_size=0.7, random_state=1234)\n",
    "rep_gnb = GaussianNB()\n",
    "rep_y_pred = rep_gnb.fit(rep_X_train, rep_y_train).predict(rep_X_test)\n",
    "print(f'Accuracy: {((rep_y_test == rep_y_pred).sum()/rep_X_test.shape[0])*100}%')\n",
    "print(classification_report(rep_y_pred, rep_y_test, labels=[0, 1], target_names=['Not Aligned', 'Aligned']))"
   ]
  },
  {
   "cell_type": "markdown",
   "metadata": {},
   "source": [
    "## Training the MNN Classifier Using Embeddings"
   ]
  },
  {
   "cell_type": "code",
   "execution_count": 16,
   "metadata": {},
   "outputs": [],
   "source": [
    "#DataLoader\n",
    "train_set = ConceptDataset(train_data, is_emb=True)\n",
    "validation_set = ConceptDataset(validation_data, is_emb=True)\n",
    "test_set = ConceptDataset(test_data, is_emb=True)"
   ]
  },
  {
   "cell_type": "code",
   "execution_count": 17,
   "metadata": {},
   "outputs": [
    {
     "name": "stdout",
     "output_type": "stream",
     "text": [
      "EmbMNNClassifier(\n",
      "  (fc1): Linear(in_features=200, out_features=128, bias=True)\n",
      "  (fc2): Linear(in_features=128, out_features=64, bias=True)\n",
      "  (fc3): Linear(in_features=64, out_features=1, bias=True)\n",
      ")\n"
     ]
    }
   ],
   "source": [
    "emb_model = EmbMNNClassifier()\n",
    "emb_model = emb_model.to(device)\n",
    "print(emb_model)"
   ]
  },
  {
   "cell_type": "code",
   "execution_count": 18,
   "metadata": {},
   "outputs": [
    {
     "name": "stdout",
     "output_type": "stream",
     "text": [
      "========== Epoch:10, Training Acc:0.7229, Validation Acc:0.8050 ==========\n",
      "========== Epoch:20, Training Acc:0.8241, Validation Acc:0.8491 ==========\n",
      "========== Epoch:30, Training Acc:0.8753, Validation Acc:0.8538 ==========\n",
      "========== Epoch:40, Training Acc:0.9049, Validation Acc:0.8679 ==========\n",
      "========== Epoch:50, Training Acc:0.9234, Validation Acc:0.8711 ==========\n",
      "========== Epoch:60, Training Acc:0.9358, Validation Acc:0.8648 ==========\n",
      "========== Epoch:70, Training Acc:0.9448, Validation Acc:0.8742 ==========\n",
      "========== Epoch:80, Training Acc:0.9516, Validation Acc:0.8789 ==========\n",
      "========== Epoch:90, Training Acc:0.9568, Validation Acc:0.8758 ==========\n",
      "========== Epoch:100, Training Acc:0.9609, Validation Acc:0.8758 ==========\n",
      "========== Epoch:110, Training Acc:0.9644, Validation Acc:0.8805 ==========\n",
      "========== Epoch:120, Training Acc:0.9672, Validation Acc:0.8774 ==========\n",
      "========== Epoch:130, Training Acc:0.9697, Validation Acc:0.8742 ==========\n",
      "========== Epoch:140, Training Acc:0.9718, Validation Acc:0.8789 ==========\n",
      "========== Epoch:150, Training Acc:0.9736, Validation Acc:0.8726 ==========\n",
      "========== Epoch:160, Training Acc:0.9751, Validation Acc:0.8711 ==========\n",
      "========== Epoch:170, Training Acc:0.9765, Validation Acc:0.8616 ==========\n",
      "========== Epoch:180, Training Acc:0.9778, Validation Acc:0.8726 ==========\n",
      "========== Epoch:190, Training Acc:0.9789, Validation Acc:0.8789 ==========\n",
      "========== Epoch:200, Training Acc:0.9799, Validation Acc:0.8648 ==========\n",
      "========== Epoch:210, Training Acc:0.9808, Validation Acc:0.8601 ==========\n",
      "========== Epoch:220, Training Acc:0.9816, Validation Acc:0.8601 ==========\n",
      "========== Epoch:230, Training Acc:0.9822, Validation Acc:0.8711 ==========\n",
      "========== Epoch:240, Training Acc:0.9829, Validation Acc:0.8726 ==========\n",
      "========== Epoch:250, Training Acc:0.9836, Validation Acc:0.8711 ==========\n",
      "========== Epoch:260, Training Acc:0.9841, Validation Acc:0.8648 ==========\n",
      "========== Epoch:270, Training Acc:0.9847, Validation Acc:0.8711 ==========\n",
      "========== Epoch:280, Training Acc:0.9852, Validation Acc:0.8695 ==========\n",
      "========== Epoch:290, Training Acc:0.9857, Validation Acc:0.8711 ==========\n",
      "========== Epoch:300, Training Acc:0.9861, Validation Acc:0.8711 ==========\n",
      "========== Epoch:310, Training Acc:0.9865, Validation Acc:0.8664 ==========\n",
      "========== Epoch:320, Training Acc:0.9869, Validation Acc:0.8632 ==========\n",
      "========== Epoch:330, Training Acc:0.9873, Validation Acc:0.8821 ==========\n",
      "========== Epoch:340, Training Acc:0.9876, Validation Acc:0.8711 ==========\n",
      "========== Epoch:350, Training Acc:0.9879, Validation Acc:0.8632 ==========\n",
      "========== Epoch:360, Training Acc:0.9882, Validation Acc:0.8585 ==========\n",
      "========== Epoch:370, Training Acc:0.9885, Validation Acc:0.8711 ==========\n",
      "========== Epoch:380, Training Acc:0.9888, Validation Acc:0.8742 ==========\n",
      "========== Epoch:390, Training Acc:0.9890, Validation Acc:0.8821 ==========\n",
      "========== Epoch:400, Training Acc:0.9892, Validation Acc:0.8695 ==========\n"
     ]
    }
   ],
   "source": [
    "emb_train_outputs, emb_validation_outputs, emb_predicted_classes, emb_true_classes = train(emb_model, train_set, validation_set, device, num_epochs=epochs, batch_size=batch)\n",
    "emb_val_correct, emb_val_true_classes, emb_val_predicted_classes = test(emb_model, validation_set, device, batch_size=batch)"
   ]
  },
  {
   "cell_type": "code",
   "execution_count": 19,
   "metadata": {},
   "outputs": [
    {
     "data": {
      "image/png": "[encoded data removed]",
      "text/plain": [
       "<Figure size 432x288 with 1 Axes>"
      ]
     },
     "metadata": {
      "needs_background": "light"
     },
     "output_type": "display_data"
    }
   ],
   "source": [
    "epochs_list = range(1, epochs+1)\n",
    "plt.plot(epochs_list, emb_train_outputs, label = \"Train Accuracy\")\n",
    "plt.plot(epochs_list, emb_validation_outputs, label = \"Validation Accuracy\")\n",
    "plt.title(\"Train and Validation Accuracy When Using Embeddings\")\n",
    "plt.legend()\n",
    "plt.savefig(pjoin(cwd, 'data', 'emb_classification_train_validation_accuracy'))\n",
    "plt.show()"
   ]
  },
  {
   "cell_type": "code",
   "execution_count": 20,
   "metadata": {},
   "outputs": [
    {
     "name": "stdout",
     "output_type": "stream",
     "text": [
      "Test Accuracy: 86.35863586358636%\n",
      "              precision    recall  f1-score   support\n",
      "\n",
      " Not Aligned       0.85      0.88      0.87       455\n",
      "     Aligned       0.88      0.85      0.86       454\n",
      "\n",
      "    accuracy                           0.86       909\n",
      "   macro avg       0.86      0.86      0.86       909\n",
      "weighted avg       0.86      0.86      0.86       909\n",
      "\n"
     ]
    }
   ],
   "source": [
    "emb_test_correct, emb_test_true_classes, emb_test_predicted_classes = test(emb_model, test_set, device, batch_size=batch)\n",
    "print(f'Test Accuracy: {(emb_test_correct/len(emb_test_true_classes))*100}%')\n",
    "print(classification_report(emb_test_true_classes, emb_test_predicted_classes, labels=[0, 1], target_names=['Not Aligned', 'Aligned']))"
   ]
  },
  {
   "cell_type": "markdown",
   "metadata": {},
   "source": [
    "### NB Classifier"
   ]
  },
  {
   "cell_type": "code",
   "execution_count": 21,
   "metadata": {},
   "outputs": [
    {
     "name": "stdout",
     "output_type": "stream",
     "text": [
      "Accuracy: 84.22044276966557%\n",
      "              precision    recall  f1-score   support\n",
      "\n",
      " Not Aligned       0.88      0.81      0.85      1131\n",
      "     Aligned       0.80      0.88      0.84       992\n",
      "\n",
      "    accuracy                           0.84      2123\n",
      "   macro avg       0.84      0.84      0.84      2123\n",
      "weighted avg       0.85      0.84      0.84      2123\n",
      "\n"
     ]
    }
   ],
   "source": [
    "X = []\n",
    "y = []\n",
    "for data in dataset:\n",
    "    concepts = data['key'].split('_')\n",
    "    m_rep = joblib.load(pjoin(cwd, 'data', 'representations', 'mouse', f'{concepts[0]}.pkl'))\n",
    "    h_rep = joblib.load(pjoin(cwd, 'data', 'representations', 'human', f'{concepts[1]}.pkl'))\n",
    "    m_concept = m_concepts[concepts[0]]\n",
    "    m_concept = np.mean(m_concept['embed'], axis=0)\n",
    "    h_concept = h_concepts[concepts[1]]\n",
    "    h_concept = np.mean(h_concept['embed'], axis=0)\n",
    "    X.append(np.mean([m_concept, h_concept], axis=0))\n",
    "    y.append(data['label'])\n",
    "\n",
    "emd_X_train, emd_X_test, emd_y_train, emd_y_test = train_test_split(np.array(X), np.array(y), test_size=0.7, random_state=1234)\n",
    "emb_gnb = GaussianNB()\n",
    "emd_y_pred = emb_gnb.fit(emd_X_train, emd_y_train).predict(emd_X_test)\n",
    "print(f'Accuracy: {((emd_y_test == emd_y_pred).sum()/emd_X_test.shape[0])*100}%')\n",
    "print(classification_report(emd_y_pred, emd_y_test, labels=[0, 1], target_names=['Not Aligned', 'Aligned']))"
   ]
  },
  {
   "cell_type": "code",
   "execution_count": 22,
   "metadata": {},
   "outputs": [
    {
     "data": {
      "image/png": "[encoded data removed]",
      "text/plain": [
       "<Figure size 432x288 with 1 Axes>"
      ]
     },
     "metadata": {
      "needs_background": "light"
     },
     "output_type": "display_data"
    }
   ],
   "source": [
    "rep_mnn_f1 = f1_score(rep_test_true_classes, rep_test_predicted_classes)\n",
    "emb_mnn_f1 = f1_score(emb_test_true_classes, emb_test_predicted_classes)\n",
    "rep_nb_f1 = f1_score(rep_y_test, rep_y_pred)\n",
    "emb_nb_f1 = f1_score(emd_y_test, emd_y_pred)\n",
    "\n",
    "x_bar = ['MNN\\nRepresentations','MNN\\nEmbeddings','NB\\nRepresentations','NB\\nEmbeddings']\n",
    "y_bar = [rep_mnn_f1, emb_mnn_f1, rep_nb_f1, emb_nb_f1]\n",
    "  \n",
    "X_axis = np.arange(len(x_bar))\n",
    "  \n",
    "plt.bar(x_bar, y_bar, 0.4)\n",
    "plt.ylim(top=(max(y_bar)+0.005))\n",
    "plt.ylim(bottom=(min(y_bar)-0.005))\n",
    "plt.xticks(X_axis, x_bar)\n",
    "plt.xlabel(\"Models\")\n",
    "plt.ylabel(\"F1 Score\")\n",
    "plt.title(\"F1 Score of Classifiers\")\n",
    "plt.savefig(pjoin(cwd, 'data', 'classifiers_f1_score_Comparison'))\n",
    "plt.show()"
   ]
  },
  {
   "cell_type": "markdown",
   "metadata": {},
   "source": [
    "## Using Cosine Similarity"
   ]
  },
  {
   "cell_type": "code",
   "execution_count": 23,
   "metadata": {},
   "outputs": [],
   "source": [
    "from sklearn.metrics import auc\n",
    "\n",
    "def roc_eval(data, sim_type):\n",
    "    datamat = pd.read_csv(pjoin(cwd, 'data', f'{sim_type}_similarity.csv'), index_col=0)\n",
    "    fpr_list = []\n",
    "    tpr_list = []\n",
    "    \n",
    "    total_pairs = data\n",
    "    total_pairs_len = len(total_pairs)\n",
    "    data_values = list(data.values())\n",
    "    ref_row_count = data_values.count(1)\n",
    "    for threshold in np.arange(0, 1, 0.1):    \n",
    "        tp = 0\n",
    "        fp = 0\n",
    "        for pair in total_pairs:\n",
    "            col, ind = pair.split('_')\n",
    "            sim = datamat.loc[ind][col]\n",
    "            if sim >= threshold:\n",
    "                if data[pair] == 1:\n",
    "                    tp += 1\n",
    "                else: \n",
    "                    fp += 1\n",
    "\n",
    "        negatives = total_pairs_len - ref_row_count\n",
    "        tn = negatives - fp\n",
    "        fn = ref_row_count - tp\n",
    "        fpr_list.append(fp / negatives)\n",
    "        tpr_list.append(tp / ref_row_count)\n",
    "        \n",
    "\n",
    "    area = auc(fpr_list,tpr_list)\n",
    "    best_threshold = np.arange(0, 1, 0.1)[np.argmax(np.abs(np.array(fpr_list) - np.array(tpr_list)))]\n",
    "    fpr_list.insert(0,1)\n",
    "    tpr_list.insert(0,1)\n",
    "    fpr_list.append(0)\n",
    "    tpr_list.append(0)\n",
    "    plt.figure()\n",
    "    plt.plot(fpr_list, tpr_list, color='darkorange', marker='.', lw=2, label=\"AUC=\"+str(area))\n",
    "    plt.plot([0, 1], [0, 1], color='navy', lw=2, linestyle='--')\n",
    "    plt.title('ROC Curve')\n",
    "    plt.ylabel('True Positive Rate')\n",
    "    plt.xlabel('False Positive Rate')\n",
    "    plt.legend(loc=4)\n",
    "    plt.show()\n",
    "    plt.savefig(pjoin(cwd, 'data', f'{sim_type}_roc.png'))\n",
    "    \n",
    "    pred_values = []\n",
    "    for pair in total_pairs:\n",
    "        col, ind = pair.split('_')\n",
    "        sim = datamat.loc[ind][col]\n",
    "        if sim >= best_threshold:\n",
    "            pred_values.append(1)\n",
    "        else:\n",
    "            pred_values.append(0)\n",
    "\n",
    "    return pred_values"
   ]
  },
  {
   "cell_type": "code",
   "execution_count": 24,
   "metadata": {},
   "outputs": [
    {
     "data": {
      "image/png": "[encoded data removed]",
      "text/plain": [
       "<Figure size 432x288 with 1 Axes>"
      ]
     },
     "metadata": {
      "needs_background": "light"
     },
     "output_type": "display_data"
    },
    {
     "data": {
      "text/plain": [
       "<Figure size 432x288 with 0 Axes>"
      ]
     },
     "metadata": {},
     "output_type": "display_data"
    }
   ],
   "source": [
    "true_values = [label_data[key] for key in label_data]\n",
    "rep_sim_pred_values = roc_eval(label_data, 'representations')"
   ]
  },
  {
   "cell_type": "markdown",
   "metadata": {},
   "source": [
    "### Using Representations Consine Similarity"
   ]
  },
  {
   "cell_type": "code",
   "execution_count": 25,
   "metadata": {},
   "outputs": [
    {
     "name": "stdout",
     "output_type": "stream",
     "text": [
      "              precision    recall  f1-score   support\n",
      "\n",
      " Not Aligned       0.95      0.99      0.97      1460\n",
      "     Aligned       0.99      0.95      0.97      1572\n",
      "\n",
      "    accuracy                           0.97      3032\n",
      "   macro avg       0.97      0.97      0.97      3032\n",
      "weighted avg       0.97      0.97      0.97      3032\n",
      "\n"
     ]
    }
   ],
   "source": [
    "print(classification_report(rep_sim_pred_values, true_values, labels=[0, 1], target_names=['Not Aligned', 'Aligned']))"
   ]
  },
  {
   "cell_type": "markdown",
   "metadata": {},
   "source": [
    "### Using Embeddings Cosine Similarity"
   ]
  },
  {
   "cell_type": "code",
   "execution_count": 26,
   "metadata": {},
   "outputs": [
    {
     "data": {
      "image/png": "[encoded data removed]",
      "text/plain": [
       "<Figure size 432x288 with 1 Axes>"
      ]
     },
     "metadata": {
      "needs_background": "light"
     },
     "output_type": "display_data"
    },
    {
     "data": {
      "text/plain": [
       "<Figure size 432x288 with 0 Axes>"
      ]
     },
     "metadata": {},
     "output_type": "display_data"
    }
   ],
   "source": [
    "emb_sim_pred_values = roc_eval(label_data, 'embeddings')"
   ]
  },
  {
   "cell_type": "code",
   "execution_count": 27,
   "metadata": {},
   "outputs": [
    {
     "name": "stdout",
     "output_type": "stream",
     "text": [
      "              precision    recall  f1-score   support\n",
      "\n",
      " Not Aligned       0.97      0.96      0.96      1522\n",
      "     Aligned       0.96      0.96      0.96      1510\n",
      "\n",
      "    accuracy                           0.96      3032\n",
      "   macro avg       0.96      0.96      0.96      3032\n",
      "weighted avg       0.96      0.96      0.96      3032\n",
      "\n"
     ]
    }
   ],
   "source": [
    "print(classification_report(emb_sim_pred_values, true_values, labels=[0, 1], target_names=['Not Aligned', 'Aligned']))"
   ]
  },
  {
   "cell_type": "code",
   "execution_count": 32,
   "metadata": {},
   "outputs": [
    {
     "data": {
      "image/png": "[encoded data removed]",
      "text/plain": [
       "<Figure size 432x288 with 1 Axes>"
      ]
     },
     "metadata": {
      "needs_background": "light"
     },
     "output_type": "display_data"
    }
   ],
   "source": [
    "rep_mnn_f1 = f1_score(rep_test_true_classes, rep_test_predicted_classes)\n",
    "emb_mnn_f1 = f1_score(emb_test_true_classes, emb_test_predicted_classes)\n",
    "rep_nb_f1 = f1_score(rep_y_test, rep_y_pred)\n",
    "emb_nb_f1 = f1_score(emd_y_test, emd_y_pred)\n",
    "rep_sim_f1 = f1_score(true_values, rep_sim_pred_values)\n",
    "emb_sim_f1 = f1_score(true_values, emb_sim_pred_values)\n",
    "\n",
    "x_bar = ['Cosine\\nSim\\nRep', 'Cosine\\nSim\\nEmb', 'MNN\\nRep','MNN\\nEmb','NB\\nRep','NB\\nEmb']\n",
    "y_bar = [rep_sim_f1, emb_sim_f1, rep_mnn_f1, emb_mnn_f1, rep_nb_f1, emb_nb_f1]\n",
    "  \n",
    "X_axis = np.arange(len(x_bar))\n",
    "  \n",
    "plt.bar(x_bar, y_bar, 0.4)\n",
    "plt.ylim(top=(max(y_bar)+0.005))\n",
    "plt.ylim(bottom=(min(y_bar)-0.005))\n",
    "plt.xticks(X_axis, x_bar)\n",
    "plt.xlabel(\"Models\")\n",
    "plt.ylabel(\"F1 Score\")\n",
    "plt.title(\"F1 Score of Classifiers\")\n",
    "plt.savefig(pjoin(cwd, 'data', 'methods_f1_score_comparison'))\n",
    "plt.show()"
   ]
  },
  {
   "cell_type": "markdown",
   "metadata": {},
   "source": [
    "## Conclusion\n",
    "Based on the results above, using the representations, we achieve a better performance (f1-score) when classifying using the Naive Bayes Classifier. For the MNN Classifier, when using the representations, the model has a slight improvement in performance (f1-score). For the Cosine Similarity method, when using the representations, the model has a better performance (f1-score).\n",
    "\n",
    "We can say using the GNN AutoEncoder to first create the representations can be helpful in the ontology alignment process, not only it reduces the dimensions, but also when creating the representations, the structural dependencies between the concepts were taken into account."
   ]
  }
 ],
 "metadata": {
  "kernelspec": {
   "display_name": "Python 3 (ipykernel)",
   "language": "python",
   "name": "python3"
  },
  "language_info": {
   "codemirror_mode": {
    "name": "ipython",
    "version": 3
   },
   "file_extension": ".py",
   "mimetype": "text/x-python",
   "name": "python",
   "nbconvert_exporter": "python",
   "pygments_lexer": "ipython3",
   "version": "3.9.7"
  }
 },
 "nbformat": 4,
 "nbformat_minor": 1
}